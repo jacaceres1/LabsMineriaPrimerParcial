{
 "cells": [
  {
   "cell_type": "markdown",
   "metadata": {},
   "source": [
    "# Importado de Librerias"
   ]
  },
  {
   "cell_type": "code",
   "execution_count": 4,
   "metadata": {
    "id": "r37OyXu2rOtF"
   },
   "outputs": [],
   "source": [
    "%matplotlib notebook\n",
    "import matplotlib.pyplot as plt\n",
    "from scipy import stats\n",
    "import numpy as np"
   ]
  },
  {
   "cell_type": "markdown",
   "metadata": {
    "id": "PBNpVsn5rhII"
   },
   "source": [
    "# Generación de los datos\n",
    "\n"
   ]
  },
  {
   "cell_type": "code",
   "execution_count": null,
   "metadata": {
    "id": "i-Pkc3xSrgjP"
   },
   "outputs": [],
   "source": [
    "mg = np.random.default_rng()\n",
    "x = mg.random(10)\n",
    "y = 1.6*x+mg.random(10)"
   ]
  },
  {
   "cell_type": "code",
   "execution_count": null,
   "metadata": {
    "colab": {
     "base_uri": "https://localhost:8080/"
    },
    "id": "R9QkojRt1Y2Q",
    "outputId": "be74aa41-785b-49b8-a90e-b45f4625d8ae"
   },
   "outputs": [
    {
     "name": "stdout",
     "output_type": "stream",
     "text": [
      "[0.8830178  0.98399438 0.37827771 0.6737717  0.41200744 0.23215558\n",
      " 0.92363223 0.48699591 0.20672351 0.87244395]\n"
     ]
    }
   ],
   "source": [
    "print(x)"
   ]
  },
  {
   "cell_type": "code",
   "execution_count": null,
   "metadata": {
    "colab": {
     "base_uri": "https://localhost:8080/"
    },
    "id": "Qd2MputS1XFI",
    "outputId": "49421b11-6f3b-4327-bd3c-1e9da8c7bc3d"
   },
   "outputs": [
    {
     "name": "stdout",
     "output_type": "stream",
     "text": [
      "[1.8796629  1.81218789 1.1406619  2.00193465 0.80100323 1.17404441\n",
      " 2.09158968 1.16308417 0.78822176 2.37055416]\n"
     ]
    }
   ],
   "source": [
    "print(y)"
   ]
  },
  {
   "cell_type": "markdown",
   "metadata": {
    "id": "3sgEM7Vj1Keo"
   },
   "source": [
    "calcula la regresion lineal de minimos cuadrados"
   ]
  },
  {
   "cell_type": "code",
   "execution_count": null,
   "metadata": {
    "id": "CHwV9IxJ1OhJ"
   },
   "outputs": [],
   "source": [
    "slope, intercept, r, p ,std_err = stats.linregress(x,y)"
   ]
  },
  {
   "cell_type": "markdown",
   "metadata": {
    "id": "4kakxPL81yHJ"
   },
   "source": [
    "utilizar la funcion auxilitar que usa la pendiente e interseccion calculadas para devolver un nuevo valor"
   ]
  },
  {
   "cell_type": "code",
   "execution_count": null,
   "metadata": {
    "id": "yTxbi3Tj12so"
   },
   "outputs": [],
   "source": [
    "def fitted_value(x):\n",
    "  return slope*x+intercept"
   ]
  },
  {
   "cell_type": "markdown",
   "metadata": {
    "id": "NTIavcBC6WyO"
   },
   "source": [
    "calcular los valores ajustados para y "
   ]
  },
  {
   "cell_type": "code",
   "execution_count": null,
   "metadata": {
    "id": "Bb5fi6u26ZzW"
   },
   "outputs": [],
   "source": [
    "new_Values = list(map(fitted_value,x))"
   ]
  },
  {
   "cell_type": "markdown",
   "metadata": {
    "id": "FPjVU1b_6jlk"
   },
   "source": [
    "visualizacion del modelo"
   ]
  },
  {
   "cell_type": "code",
   "execution_count": null,
   "metadata": {
    "id": "QYk8tz2X6lMS"
   },
   "outputs": [],
   "source": [
    "plt.plot(x,y,'o',label = 'original data')\n",
    "plt.plot(x,new_Values,'r',label='fitted line')\n"
   ]
  }
 ],
 "metadata": {
  "colab": {
   "name": "labregreswonlineal.ipynb",
   "provenance": []
  },
  "kernelspec": {
   "display_name": "Python 3 (ipykernel)",
   "language": "python",
   "name": "python3"
  },
  "language_info": {
   "codemirror_mode": {
    "name": "ipython",
    "version": 3
   },
   "file_extension": ".py",
   "mimetype": "text/x-python",
   "name": "python",
   "nbconvert_exporter": "python",
   "pygments_lexer": "ipython3",
   "version": "3.9.12"
  }
 },
 "nbformat": 4,
 "nbformat_minor": 1
}
