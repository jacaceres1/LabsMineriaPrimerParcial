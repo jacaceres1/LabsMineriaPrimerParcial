{
 "cells": [
  {
   "cell_type": "markdown",
   "metadata": {},
   "source": [
    "# Importado de Librerias"
   ]
  },
  {
   "cell_type": "code",
   "execution_count": 4,
   "metadata": {
    "id": "r37OyXu2rOtF"
   },
   "outputs": [],
   "source": [
    "%matplotlib notebook\n",
    "import matplotlib.pyplot as plt\n",
    "from scipy import stats\n",
    "import numpy as np"
   ]
  },
  {
   "cell_type": "markdown",
   "metadata": {
    "id": "PBNpVsn5rhII"
   },
   "source": [
    "# Generación de los datos\n",
    "\n"
   ]
  },
  {
   "cell_type": "code",
   "execution_count": 20,
   "metadata": {
    "id": "i-Pkc3xSrgjP"
   },
   "outputs": [
    {
     "name": "stdout",
     "output_type": "stream",
     "text": [
      "\n",
      "    La función realiza la generación de la data \n",
      " \n"
     ]
    }
   ],
   "source": [
    "\n",
    "\"\"\"\n",
    "    La función realiza la generación de la data \n",
    " \"\"\"\n",
    "mg = np.random.default_rng()\n",
    "x = mg.random(10)\n",
    "y = 1.6*x+mg.random(10)\n",
    "print(__doc__)"
   ]
  },
  {
   "cell_type": "code",
   "execution_count": 21,
   "metadata": {
    "colab": {
     "base_uri": "https://localhost:8080/"
    },
    "id": "R9QkojRt1Y2Q",
    "outputId": "be74aa41-785b-49b8-a90e-b45f4625d8ae"
   },
   "outputs": [
    {
     "name": "stdout",
     "output_type": "stream",
     "text": [
      "[0.03432004 0.4981603  0.59054274 0.59012371 0.46497976 0.47498306\n",
      " 0.05191308 0.98911162 0.31521293 0.78488922]\n",
      "\n",
      "    Esta imprime el valor de x\n",
      "\n"
     ]
    }
   ],
   "source": [
    "\"\"\"\n",
    "    Esta imprime el valor de x\n",
    "\"\"\"\n",
    "print(x)\n",
    "print(__doc__)"
   ]
  },
  {
   "cell_type": "code",
   "execution_count": null,
   "metadata": {
    "colab": {
     "base_uri": "https://localhost:8080/"
    },
    "id": "Qd2MputS1XFI",
    "outputId": "49421b11-6f3b-4327-bd3c-1e9da8c7bc3d"
   },
   "outputs": [
    {
     "name": "stdout",
     "output_type": "stream",
     "text": [
      "[1.8796629  1.81218789 1.1406619  2.00193465 0.80100323 1.17404441\n",
      " 2.09158968 1.16308417 0.78822176 2.37055416]\n"
     ]
    }
   ],
   "source": [
    "print(y)"
   ]
  },
  {
   "cell_type": "markdown",
   "metadata": {
    "id": "3sgEM7Vj1Keo"
   },
   "source": [
    "calcula la regresion lineal de minimos cuadrados"
   ]
  },
  {
   "cell_type": "code",
   "execution_count": null,
   "metadata": {
    "id": "CHwV9IxJ1OhJ"
   },
   "outputs": [],
   "source": [
    "slope, intercept, r, p ,std_err = stats.linregress(x,y)"
   ]
  },
  {
   "cell_type": "markdown",
   "metadata": {
    "id": "4kakxPL81yHJ"
   },
   "source": [
    "utilizar la funcion auxilitar que usa la pendiente e interseccion calculadas para devolver un nuevo valor"
   ]
  },
  {
   "cell_type": "code",
   "execution_count": 9,
   "metadata": {
    "id": "yTxbi3Tj12so"
   },
   "outputs": [],
   "source": [
    "def fitted_value(x):\n",
    "  return slope*x+intercept"
   ]
  },
  {
   "cell_type": "markdown",
   "metadata": {
    "id": "NTIavcBC6WyO"
   },
   "source": [
    "calcular los valores ajustados para y "
   ]
  },
  {
   "cell_type": "code",
   "execution_count": null,
   "metadata": {
    "id": "Bb5fi6u26ZzW"
   },
   "outputs": [],
   "source": [
    "new_Values = list(map(fitted_value,x))"
   ]
  },
  {
   "cell_type": "markdown",
   "metadata": {
    "id": "FPjVU1b_6jlk"
   },
   "source": [
    "visualizacion del modelo"
   ]
  },
  {
   "cell_type": "code",
   "execution_count": 10,
   "metadata": {
    "id": "QYk8tz2X6lMS"
   },
   "outputs": [
    {
     "ename": "NameError",
     "evalue": "name 'x' is not defined",
     "output_type": "error",
     "traceback": [
      "\u001b[1;31m---------------------------------------------------------------------------\u001b[0m",
      "\u001b[1;31mNameError\u001b[0m                                 Traceback (most recent call last)",
      "Input \u001b[1;32mIn [10]\u001b[0m, in \u001b[0;36m<cell line: 1>\u001b[1;34m()\u001b[0m\n\u001b[1;32m----> 1\u001b[0m plt\u001b[38;5;241m.\u001b[39mplot(\u001b[43mx\u001b[49m,y,\u001b[38;5;124m'\u001b[39m\u001b[38;5;124mo\u001b[39m\u001b[38;5;124m'\u001b[39m,label \u001b[38;5;241m=\u001b[39m \u001b[38;5;124m'\u001b[39m\u001b[38;5;124moriginal data\u001b[39m\u001b[38;5;124m'\u001b[39m)\n\u001b[0;32m      2\u001b[0m plt\u001b[38;5;241m.\u001b[39mplot(x,new_Values,\u001b[38;5;124m'\u001b[39m\u001b[38;5;124mr\u001b[39m\u001b[38;5;124m'\u001b[39m,label\u001b[38;5;241m=\u001b[39m\u001b[38;5;124m'\u001b[39m\u001b[38;5;124mfitted line\u001b[39m\u001b[38;5;124m'\u001b[39m)\n",
      "\u001b[1;31mNameError\u001b[0m: name 'x' is not defined"
     ]
    }
   ],
   "source": [
    "plt.plot(x,y,'o',label = 'original data')\n",
    "plt.plot(x,new_Values,'r',label='fitted line')\n"
   ]
  },
  {
   "cell_type": "code",
   "execution_count": null,
   "metadata": {},
   "outputs": [],
   "source": []
  }
 ],
 "metadata": {
  "colab": {
   "name": "labregreswonlineal.ipynb",
   "provenance": []
  },
  "kernelspec": {
   "display_name": "Python 3 (ipykernel)",
   "language": "python",
   "name": "python3"
  },
  "language_info": {
   "codemirror_mode": {
    "name": "ipython",
    "version": 3
   },
   "file_extension": ".py",
   "mimetype": "text/x-python",
   "name": "python",
   "nbconvert_exporter": "python",
   "pygments_lexer": "ipython3",
   "version": "3.9.12"
  }
 },
 "nbformat": 4,
 "nbformat_minor": 1
}
